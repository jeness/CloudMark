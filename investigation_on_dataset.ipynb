{
 "cells": [
  {
   "cell_type": "markdown",
   "metadata": {
    "_cell_guid": "426173e8-ed0b-4e6a-a029-f57f70e6832a",
    "_uuid": "d6ecfd88769a50449210df177117ffd332f47c83"
   },
   "source": [
    "# Investigation on Raw Dataset"
   ]
  },
  {
   "cell_type": "code",
   "execution_count": 1,
   "metadata": {
    "_cell_guid": "3f842ced-95ec-444b-9b59-2f88e606a934",
    "_uuid": "62eda75d051afd61f5d50692ff40ae56d77d4845",
    "trusted": true
   },
   "outputs": [],
   "source": [
    "import pandas as pd\n",
    "from pathlib import Path\n",
    "import matplotlib.pyplot as plt\n",
    "import seaborn as sns"
   ]
  },
  {
   "cell_type": "code",
   "execution_count": 2,
   "metadata": {
    "_cell_guid": "ed272952-cf2a-40b4-a605-9f9660681305",
    "_uuid": "e0c9b8be85e3a5783b7d031bc28314a0fb766bb9",
    "trusted": true
   },
   "outputs": [
    {
     "data": {
      "text/html": [
       "<div>\n<style scoped>\n    .dataframe tbody tr th:only-of-type {\n        vertical-align: middle;\n    }\n\n    .dataframe tbody tr th {\n        vertical-align: top;\n    }\n\n    .dataframe thead th {\n        text-align: right;\n    }\n</style>\n<table border=\"1\" class=\"dataframe\">\n  <thead>\n    <tr style=\"text-align: right;\">\n      <th></th>\n      <th>id</th>\n      <th>url</th>\n      <th>landmark_id</th>\n    </tr>\n  </thead>\n  <tbody>\n    <tr>\n      <th>0</th>\n      <td>cacf8152e2d2ae60</td>\n      <td>http://static.panoramio.com/photos/original/70...</td>\n      <td>4676</td>\n    </tr>\n    <tr>\n      <th>1</th>\n      <td>0a58358a2afd3e4e</td>\n      <td>http://lh6.ggpht.com/-igpT6wu0mIA/ROV8HnUuABI/...</td>\n      <td>6651</td>\n    </tr>\n    <tr>\n      <th>2</th>\n      <td>6b2bb500b6a38aa0</td>\n      <td>http://lh6.ggpht.com/-vKr5G5MEusk/SR6r6SJi6mI/...</td>\n      <td>11284</td>\n    </tr>\n    <tr>\n      <th>3</th>\n      <td>b399f09dee9c3c67</td>\n      <td>https://lh3.googleusercontent.com/-LOW2cjAqubA...</td>\n      <td>8429</td>\n    </tr>\n    <tr>\n      <th>4</th>\n      <td>19ace29d77a5be66</td>\n      <td>https://lh5.googleusercontent.com/-tnmSXwQcWL8...</td>\n      <td>6231</td>\n    </tr>\n  </tbody>\n</table>\n</div>"
      ],
      "text/plain": [
       "                 id     ...     landmark_id\n0  cacf8152e2d2ae60     ...            4676\n1  0a58358a2afd3e4e     ...            6651\n2  6b2bb500b6a38aa0     ...           11284\n3  b399f09dee9c3c67     ...            8429\n4  19ace29d77a5be66     ...            6231\n\n[5 rows x 3 columns]"
      ]
     },
     "execution_count": 2,
     "metadata": {},
     "output_type": "execute_result"
    }
   ],
   "source": [
    "# opening train/test csv files\n",
    "train = pd.read_csv('../input/train.csv')\n",
    "test = pd.read_csv('../input/test.csv')\n",
    "train.head(5)\n",
    "test.head(5)"
   ]
  },
  {
   "cell_type": "code",
   "execution_count": 3,
   "metadata": {
    "_cell_guid": "79789747-30fa-4bf9-9790-c5883443fa96",
    "_uuid": "b3db26fdffb15950cb7f2ae512c5d36a06da1e0d",
    "trusted": true
   },
   "outputs": [
    {
     "name": "stdout",
     "output_type": "stream",
     "text": [
      "Train shape : (1225029, 3)\nTest shape : (117703, 2)\n"
     ]
    }
   ],
   "source": [
    "# 10 for 1 ration\n",
    "print(f\"Train shape : {train.shape}\")\n",
    "print(f\"Test shape : {test.shape}\")"
   ]
  },
  {
   "cell_type": "code",
   "execution_count": 4,
   "metadata": {
    "_cell_guid": "ecb9aca0-0d6f-4c6c-81a9-6151aff276ad",
    "_uuid": "33d86eb75c3abf44957a15d3903700a1069a4e4b",
    "trusted": true
   },
   "outputs": [
    {
     "data": {
      "text/plain": [
       "id             1225029\nurl            1225029\nlandmark_id      14951\ndtype: int64"
      ]
     },
     "execution_count": 4,
     "metadata": {},
     "output_type": "execute_result"
    }
   ],
   "source": [
    "# Dataset organization\n",
    "train.nunique()"
   ]
  },
  {
   "cell_type": "markdown",
   "metadata": {
    "_cell_guid": "1dfbc16f-30c7-495a-8149-a655172f7212",
    "_uuid": "d4d136a8e0d4c7a03c2c2c0c5e4d356d474376ed"
   },
   "source": [
    "# Class distribution"
   ]
  },
  {
   "cell_type": "code",
   "execution_count": 5,
   "metadata": {
    "_cell_guid": "17fbd9d8-ced8-4df2-a9df-5d3a9a4cc8b2",
    "_uuid": "9b57bb387be9601a8f7c0e600f3be2acb2afb910",
    "trusted": true
   },
   "outputs": [
    {
     "name": "stderr",
     "output_type": "stream",
     "text": [
      "/opt/conda/lib/python3.6/site-packages/scipy/stats/stats.py:1713: FutureWarning: Using a non-tuple sequence for multidimensional indexing is deprecated; use `arr[tuple(seq)]` instead of `arr[seq]`. In the future this will be interpreted as an array index, `arr[np.array(seq)]`, which will result either in an error or a different result.\n  return np.add.reduce(sorted[indexer] * weights, axis=axis) / sumval\n"
     ]
    },
    {
     "data": {
      "image/png": "[encoded data removed]",
      "text/plain": [
       "<Figure size 576x360 with 1 Axes>"
      ]
     },
     "metadata": {
      "needs_background": "light"
     },
     "output_type": "display_data"
    }
   ],
   "source": [
    "plt.figure(figsize = (8, 5))\n",
    "plt.title('Category Distribuition')\n",
    "sns.distplot(train['landmark_id'])\n",
    "\n",
    "plt.show()"
   ]
  },
  {
   "cell_type": "code",
   "execution_count": 6,
   "metadata": {
    "_cell_guid": "c4b43066-06b6-4427-9349-4241ccf2c499",
    "_uuid": "d6419d96f4ff7e0a0367ac1fbd6d922bfe063cf8",
    "trusted": true
   },
   "outputs": [
    {
     "name": "stdout",
     "output_type": "stream",
     "text": [
      "9633    50337\n6051    50148\n6599    23415\n9779    18471\n2061    13271\n5554    11147\n6651     9508\nName: landmark_id, dtype: int64\n"
     ]
    }
   ],
   "source": [
    "# Top categories\n",
    "print(train['landmark_id'].value_counts().head(7))"
   ]
  },
  {
   "cell_type": "code",
   "execution_count": 7,
   "metadata": {
    "_cell_guid": "96a67583-b3c4-4b3f-8a8d-ace9ef1e0130",
    "_uuid": "a5eb02f61bedf8ce63b826dcb414625092b71cbb",
    "trusted": true
   },
   "outputs": [
    {
     "name": "stdout",
     "output_type": "stream",
     "text": [
      "Median number : 14.0\nMean number : 81.93625844425122\n"
     ]
    }
   ],
   "source": [
    "print(f\"Median number : {train['landmark_id'].value_counts().median()}\")\n",
    "print(f\"Mean number : {train['landmark_id'].value_counts().mean()}\")"
   ]
  },
  {
   "cell_type": "code",
   "execution_count": 8,
   "metadata": {
    "_cell_guid": "11f59c12-55b2-4d9e-b11c-22f5058de652",
    "_uuid": "1e0a3f17baaffc2986fa5beac59f56aefca45aef",
    "trusted": true
   },
   "outputs": [
    {
     "data": {
      "text/plain": [
       "count    14951.000000\nmean        81.936258\nstd        707.234873\nmin          1.000000\n25%          6.000000\n50%         14.000000\n75%         46.000000\nmax      50337.000000\nName: landmark_id, dtype: float64"
      ]
     },
     "execution_count": 8,
     "metadata": {},
     "output_type": "execute_result"
    }
   ],
   "source": [
    "# More exhaustive description\n",
    "train['landmark_id'].value_counts().describe()"
   ]
  },
  {
   "cell_type": "code",
   "execution_count": 9,
   "metadata": {
    "_cell_guid": "32c565c8-7255-4910-9932-c157f4bb1791",
    "_uuid": "383ca856db585ada2493c77d0d610e15975d4290",
    "trusted": true
   },
   "outputs": [
    {
     "data": {
      "text/plain": [
       "'Number of classes under 10 occurences : 6559/14951'"
      ]
     },
     "execution_count": 9,
     "metadata": {},
     "output_type": "execute_result"
    }
   ],
   "source": [
    "f\"Number of classes under 10 occurences : {(train['landmark_id'].value_counts() <= 10).sum()}/{len(train['landmark_id'].unique())}\""
   ]
  },
  {
   "cell_type": "markdown",
   "metadata": {
    "_cell_guid": "4c457a22-2946-4a1e-b97c-ce80ca0dc5c1",
    "_uuid": "144dad8469c32f0a0e21430181e35d3259712582"
   },
   "source": [
    "So we have 14951 categories, 75% of them having less than 46 examples. "
   ]
  }
 ],
 "metadata": {
  "kernelspec": {
   "display_name": "Python 3",
   "language": "python",
   "name": "python3"
  },
  "language_info": {
   "name": "python",
   "version": "3.6.6",
   "mimetype": "text/x-python",
   "codemirror_mode": {
    "name": "ipython",
    "version": 3
   },
   "pygments_lexer": "ipython3",
   "nbconvert_exporter": "python",
   "file_extension": ".py"
  }
 },
 "nbformat": 4,
 "nbformat_minor": 1
}
